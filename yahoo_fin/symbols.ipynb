{
 "cells": [
  {
   "cell_type": "code",
   "execution_count": 9,
   "metadata": {},
   "outputs": [],
   "source": [
    "import pandas as pd\n",
    "import pandas_ta as ta\n",
    "import yfinance as yf\n",
    "#from strategies import superEma"
   ]
  },
  {
   "cell_type": "code",
   "execution_count": 10,
   "metadata": {},
   "outputs": [
    {
     "name": "stdout",
     "output_type": "stream",
     "text": [
      "[*********************100%***********************]  1 of 1 completed\n"
     ]
    }
   ],
   "source": [
    "tickers = ['CUB']\n",
    "\n",
    "for ticker in tickers:\n",
    "    ticker = ticker + '.NS'\n",
    "    data = yf.download(ticker, group_by=\"Ticker\", period='2d', interval='15m')\n",
    "    data['symbol'] = ticker.replace('.NS','')\n",
    "    "
   ]
  },
  {
   "cell_type": "code",
   "execution_count": 3,
   "metadata": {},
   "outputs": [],
   "source": [
    "data.to_csv('stock.csv')\n",
    "\n",
    "df = pd.read_csv('stock.csv')\n",
    "\n",
    "#superEma.trade_decision_yf(df)"
   ]
  }
 ],
 "metadata": {
  "kernelspec": {
   "display_name": "bot_env",
   "language": "python",
   "name": "python3"
  },
  "language_info": {
   "codemirror_mode": {
    "name": "ipython",
    "version": 3
   },
   "file_extension": ".py",
   "mimetype": "text/x-python",
   "name": "python",
   "nbconvert_exporter": "python",
   "pygments_lexer": "ipython3",
   "version": "3.8.5"
  },
  "orig_nbformat": 4
 },
 "nbformat": 4,
 "nbformat_minor": 2
}
