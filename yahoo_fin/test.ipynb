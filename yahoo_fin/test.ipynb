{
 "cells": [
  {
   "cell_type": "code",
   "execution_count": 1,
   "metadata": {},
   "outputs": [],
   "source": [
    "import yfinance\n",
    "import pandas as pd"
   ]
  },
  {
   "cell_type": "code",
   "execution_count": 2,
   "metadata": {},
   "outputs": [
    {
     "ename": "AttributeError",
     "evalue": "'Index' object has no attribute 'applymap'",
     "output_type": "error",
     "traceback": [
      "\u001b[1;31m---------------------------------------------------------------------------\u001b[0m",
      "\u001b[1;31mAttributeError\u001b[0m                            Traceback (most recent call last)",
      "Cell \u001b[1;32mIn[2], line 5\u001b[0m\n\u001b[0;32m      1\u001b[0m symbol \u001b[39m=\u001b[39m \u001b[39m\"\u001b[39m\u001b[39mTCS.NS\u001b[39m\u001b[39m\"\u001b[39m\n\u001b[0;32m      3\u001b[0m sdata \u001b[39m=\u001b[39m yfinance\u001b[39m.\u001b[39mTicker(ticker\u001b[39m=\u001b[39msymbol)\u001b[39m.\u001b[39mhistory(period\u001b[39m=\u001b[39m\u001b[39m\"\u001b[39m\u001b[39m1mo\u001b[39m\u001b[39m\"\u001b[39m, interval\u001b[39m=\u001b[39m\u001b[39m\"\u001b[39m\u001b[39m15m\u001b[39m\u001b[39m\"\u001b[39m)\n\u001b[1;32m----> 5\u001b[0m df  \u001b[39m=\u001b[39m sdata\u001b[39m.\u001b[39;49mcolumns\u001b[39m.\u001b[39;49mapplymap(\u001b[39mlambda\u001b[39;00m s: s\u001b[39m.\u001b[39mlower() \u001b[39mif\u001b[39;00m \u001b[39mtype\u001b[39m(s) \u001b[39m==\u001b[39m \u001b[39mstr\u001b[39m \u001b[39melse\u001b[39;00m s)\n",
      "\u001b[1;31mAttributeError\u001b[0m: 'Index' object has no attribute 'applymap'"
     ]
    }
   ],
   "source": [
    "symbol = \"TCS.NS\"\n",
    "\n",
    "sdata = yfinance.Ticker(ticker=symbol).history(period=\"1mo\", interval=\"15m\")\n",
    "\n",
    "df  = sdata.columns(lambda s: s.lower() if type(s) == str else s)"
   ]
  }
 ],
 "metadata": {
  "kernelspec": {
   "display_name": "bot_env",
   "language": "python",
   "name": "python3"
  },
  "language_info": {
   "codemirror_mode": {
    "name": "ipython",
    "version": 3
   },
   "file_extension": ".py",
   "mimetype": "text/x-python",
   "name": "python",
   "nbconvert_exporter": "python",
   "pygments_lexer": "ipython3",
   "version": "3.8.5"
  },
  "orig_nbformat": 4,
  "vscode": {
   "interpreter": {
    "hash": "72348392c911ba7c15ecd197c023da0aa8bf234dbe66fdc301571c978ad8278a"
   }
  }
 },
 "nbformat": 4,
 "nbformat_minor": 2
}
