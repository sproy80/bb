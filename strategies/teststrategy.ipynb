{
 "cells": [
  {
   "cell_type": "code",
   "execution_count": 1,
   "metadata": {},
   "outputs": [],
   "source": [
    "from tvDatafeed import TvDatafeed, Interval\n",
    "import pandas as pd\n",
    "import pandas_ta as ta\n",
    "import time\n",
    "from superEma import new_trade_decision"
   ]
  },
  {
   "cell_type": "code",
   "execution_count": 2,
   "metadata": {},
   "outputs": [],
   "source": [
    "username = 'roysanjay3'\n",
    "password = 'Tradingview@786'\n",
    "\n",
    "tv = TvDatafeed(username, password)\n",
    "\n",
    "# crudeoil_data = tv.get_hist(symbol='CRUDEOIL', exchange='MCX',\n",
    "#                             interval=Interval.in_15_minute, n_bars=1000, fut_contract=1)\n",
    "\n",
    "# crudeoil_data.to_csv('crudeoil.csv')\n",
    "# df = pd.read_csv('crudeoil.csv')\n",
    "\n",
    "\n",
    "def get_historicadata(symbol, exchange, time_frame):\n",
    "\n",
    "    if time_frame == '1':\n",
    "        interval = Interval.in_1_minute\n",
    "\n",
    "    if time_frame == '5':\n",
    "        interval = Interval.in_5_minute\n",
    "\n",
    "    if time_frame == '15':\n",
    "        interval = Interval.in_15_minute\n",
    "\n",
    "    sdata = tv.get_hist(symbol=symbol, exchange=exchange,\n",
    "                        interval=interval, n_bars=1000, fut_contract=1)\n",
    "    df = pd.DataFrame(sdata)\n",
    "\n",
    "   # print(df)\n",
    "\n",
    "    df.to_csv('stock.csv')\n",
    "\n",
    "    fdf = pd.read_csv('stock.csv', usecols=[\n",
    "                      'datetime', 'open', 'high', 'low', 'close', 'volume'])\n",
    "\n",
    "    fdf.rename(columns={'datetime': 'date'}, inplace=True)\n",
    "\n",
    "    # print(fdf)\n",
    "\n",
    "    return fdf\n"
   ]
  },
  {
   "cell_type": "code",
   "execution_count": 3,
   "metadata": {},
   "outputs": [],
   "source": [
    "sdata = get_historicadata(symbol='CRUDEOIL', exchange='MCX',time_frame='1')\n",
    "\n",
    "all_data = new_trade_decision(sdata)\n",
    "\n",
    "all_data.to_csv('alldata.csv')"
   ]
  }
 ],
 "metadata": {
  "kernelspec": {
   "display_name": "bot_env",
   "language": "python",
   "name": "python3"
  },
  "language_info": {
   "codemirror_mode": {
    "name": "ipython",
    "version": 3
   },
   "file_extension": ".py",
   "mimetype": "text/x-python",
   "name": "python",
   "nbconvert_exporter": "python",
   "pygments_lexer": "ipython3",
   "version": "3.8.5"
  },
  "orig_nbformat": 4
 },
 "nbformat": 4,
 "nbformat_minor": 2
}
